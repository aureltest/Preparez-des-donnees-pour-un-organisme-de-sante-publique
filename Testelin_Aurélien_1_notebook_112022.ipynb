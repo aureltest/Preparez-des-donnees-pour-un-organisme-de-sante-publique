{
 "cells": [
  {
   "cell_type": "markdown",
   "id": "5266b0d1",
   "metadata": {},
   "source": [
    "# Projet 3 : Concevez une application au service de la santé"
   ]
  },
  {
   "cell_type": "markdown",
   "id": "c3b2b98f",
   "metadata": {},
   "source": [
    "**Chargement des librairies**"
   ]
  },
  {
   "cell_type": "code",
   "execution_count": 1,
   "id": "93790a57",
   "metadata": {},
   "outputs": [],
   "source": [
    "import numpy as np\n",
    "import pandas as pd\n",
    "import matplotlib.pyplot as plt\n",
    "import seaborn as sns\n",
    "import pickle\n",
    "from sklearn.model_selection import train_test_split\n",
    "from sklearn.experimental import enable_iterative_imputer \n",
    "from sklearn.impute import KNNImputer\n",
    "from sklearn.ensemble import RandomForestClassifier\n",
    "from sklearn.preprocessing import LabelEncoder"
   ]
  },
  {
   "cell_type": "code",
   "execution_count": 2,
   "id": "02d379cd",
   "metadata": {},
   "outputs": [],
   "source": [
    "pd.set_option('display.max_rows', 162)\n",
    "pd.set_option('display.max_columns', 162)"
   ]
  },
  {
   "cell_type": "markdown",
   "id": "7bc424bc",
   "metadata": {},
   "source": [
    "## Présentation et sélection des variables pertinentes"
   ]
  },
  {
   "cell_type": "code",
   "execution_count": 3,
   "id": "44390acd",
   "metadata": {
    "scrolled": false
   },
   "outputs": [
    {
     "name": "stderr",
     "output_type": "stream",
     "text": [
      "C:\\Users\\aurel\\AppData\\Local\\Temp\\ipykernel_6988\\4194003184.py:4: DtypeWarning: Columns (0,3,5,19,20,24,25,26,27,28,35,36,37,38,39,48) have mixed types. Specify dtype option on import or set low_memory=False.\n",
      "  df = pd.read_csv(\"fr.openfoodfacts.org.products.csv\", sep = \"\\t\")\n"
     ]
    },
    {
     "name": "stdout",
     "output_type": "stream",
     "text": [
      "Le jeu de données comporte 320772 lignes et 162 colonnes\n"
     ]
    },
    {
     "data": {
      "text/plain": [
       "last_modified_t                               0.000000\n",
       "last_modified_datetime                        0.000000\n",
       "creator                                       0.000006\n",
       "created_t                                     0.000009\n",
       "created_datetime                              0.000028\n",
       "code                                          0.000072\n",
       "url                                           0.000072\n",
       "states                                        0.000143\n",
       "states_tags                                   0.000143\n",
       "states_fr                                     0.000143\n",
       "countries_fr                                  0.000873\n",
       "countries                                     0.000873\n",
       "countries_tags                                0.000873\n",
       "product_name                                  0.055373\n",
       "brands                                        0.088574\n",
       "brands_tags                                   0.088599\n",
       "energy_100g                                   0.185986\n",
       "proteins_100g                                 0.189699\n",
       "salt_100g                                     0.203453\n",
       "sodium_100g                                   0.203599\n",
       "ingredients_text                              0.223866\n",
       "ingredients_that_may_be_from_palm_oil_n       0.223938\n",
       "additives_n                                   0.223938\n",
       "ingredients_from_palm_oil_n                   0.223938\n",
       "additives                                     0.224044\n",
       "sugars_100g                                   0.236308\n",
       "fat_100g                                      0.239675\n",
       "carbohydrates_100g                            0.240620\n",
       "saturated-fat_100g                            0.284370\n",
       "nutrition-score-uk_100g                       0.310382\n",
       "nutrition-score-fr_100g                       0.310382\n",
       "nutrition_grade_fr                            0.310382\n",
       "serving_size                                  0.341180\n",
       "fiber_100g                                    0.373742\n",
       "additives_fr                                  0.517788\n",
       "additives_tags                                0.517788\n",
       "cholesterol_100g                              0.550802\n",
       "trans-fat_100g                                0.553271\n",
       "calcium_100g                                  0.560280\n",
       "vitamin-c_100g                                0.560850\n",
       "iron_100g                                     0.562113\n",
       "vitamin-a_100g                                0.571178\n",
       "quantity                                      0.673229\n",
       "pnns_groups_2                                 0.705426\n",
       "pnns_groups_1                                 0.714710\n",
       "categories_fr                                 0.736850\n",
       "categories                                    0.736854\n",
       "categories_tags                               0.736919\n",
       "main_category                                 0.736991\n",
       "main_category_fr                              0.736991\n",
       "packaging_tags                                0.753841\n",
       "packaging                                     0.753844\n",
       "image_small_url                               0.763583\n",
       "image_url                                     0.763583\n",
       "purchase_places                               0.818585\n",
       "generic_name                                  0.835413\n",
       "stores                                        0.838758\n",
       "labels_fr                                     0.854520\n",
       "labels_tags                                   0.854588\n",
       "labels                                        0.854853\n",
       "manufacturing_places                          0.886209\n",
       "manufacturing_places_tags                     0.886228\n",
       "emb_codes                                     0.908639\n",
       "emb_codes_tags                                0.908649\n",
       "allergens                                     0.911638\n",
       "potassium_100g                                0.922849\n",
       "traces                                        0.924080\n",
       "traces_fr                                     0.924083\n",
       "traces_tags                                   0.924155\n",
       "polyunsaturated-fat_100g                      0.928738\n",
       "monounsaturated-fat_100g                      0.928850\n",
       "origins                                       0.930823\n",
       "origins_tags                                  0.930938\n",
       "cities_tags                                   0.936653\n",
       "first_packaging_code_geo                      0.941382\n",
       "vitamin-pp_100g                               0.963435\n",
       "ingredients_that_may_be_from_palm_oil_tags    0.963538\n",
       "vitamin-b1_100g                               0.965228\n",
       "vitamin-b2_100g                               0.966284\n",
       "vitamin-d_100g                                0.978000\n",
       "vitamin-b6_100g                               0.978851\n",
       "magnesium_100g                                0.980506\n",
       "phosphorus_100g                               0.981778\n",
       "vitamin-b12_100g                              0.983477\n",
       "vitamin-b9_100g                               0.983664\n",
       "ingredients_from_palm_oil_tags                0.984927\n",
       "alcohol_100g                                  0.987115\n",
       "zinc_100g                                     0.987751\n",
       "folates_100g                                  0.990517\n",
       "fruits-vegetables-nuts_100g                   0.990535\n",
       "pantothenic-acid_100g                         0.992259\n",
       "copper_100g                                   0.993435\n",
       "manganese_100g                                0.994950\n",
       "vitamin-e_100g                                0.995823\n",
       "selenium_100g                                 0.996359\n",
       "cocoa_100g                                    0.997045\n",
       "vitamin-k_100g                                0.997138\n",
       "energy-from-fat_100g                          0.997328\n",
       "omega-3-fat_100g                              0.997378\n",
       "polyols_100g                                  0.998709\n",
       "biotin_100g                                   0.998971\n",
       "carbon-footprint_100g                         0.999165\n",
       "starch_100g                                   0.999171\n",
       "lactose_100g                                  0.999183\n",
       "iodine_100g                                   0.999193\n",
       "omega-6-fat_100g                              0.999414\n",
       "alpha-linolenic-acid_100g                     0.999420\n",
       "collagen-meat-protein-ratio_100g              0.999486\n",
       "chloride_100g                                 0.999507\n",
       "linoleic-acid_100g                            0.999535\n",
       "bicarbonate_100g                              0.999747\n",
       "fluoride_100g                                 0.999754\n",
       "caffeine_100g                                 0.999757\n",
       "docosahexaenoic-acid_100g                     0.999757\n",
       "sucrose_100g                                  0.999776\n",
       "ph_100g                                       0.999847\n",
       "fructose_100g                                 0.999882\n",
       "silica_100g                                   0.999882\n",
       "eicosapentaenoic-acid_100g                    0.999882\n",
       "beta-carotene_100g                            0.999894\n",
       "taurine_100g                                  0.999910\n",
       "casein_100g                                   0.999916\n",
       "glucose_100g                                  0.999919\n",
       "gamma-linolenic-acid_100g                     0.999925\n",
       "arachidic-acid_100g                           0.999925\n",
       "dihomo-gamma-linolenic-acid_100g              0.999928\n",
       "behenic-acid_100g                             0.999928\n",
       "cities                                        0.999928\n",
       "omega-9-fat_100g                              0.999935\n",
       "chromium_100g                                 0.999938\n",
       "allergens_fr                                  0.999941\n",
       "serum-proteins_100g                           0.999950\n",
       "gondoic-acid_100g                             0.999956\n",
       "oleic-acid_100g                               0.999959\n",
       "maltodextrins_100g                            0.999966\n",
       "molybdenum_100g                               0.999966\n",
       "nucleotides_100g                              0.999972\n",
       "arachidonic-acid_100g                         0.999975\n",
       "maltose_100g                                  0.999988\n",
       "lauric-acid_100g                              0.999988\n",
       "capric-acid_100g                              0.999994\n",
       "myristic-acid_100g                            0.999997\n",
       "stearic-acid_100g                             0.999997\n",
       "caprylic-acid_100g                            0.999997\n",
       "montanic-acid_100g                            0.999997\n",
       "palmitic-acid_100g                            0.999997\n",
       "chlorophyl_100g                               1.000000\n",
       "melissic-acid_100g                            1.000000\n",
       "erucic-acid_100g                              1.000000\n",
       "mead-acid_100g                                1.000000\n",
       "elaidic-acid_100g                             1.000000\n",
       "glycemic-index_100g                           1.000000\n",
       "cerotic-acid_100g                             1.000000\n",
       "lignoceric-acid_100g                          1.000000\n",
       "caproic-acid_100g                             1.000000\n",
       "butyric-acid_100g                             1.000000\n",
       "nutrition_grade_uk                            1.000000\n",
       "ingredients_that_may_be_from_palm_oil         1.000000\n",
       "ingredients_from_palm_oil                     1.000000\n",
       "no_nutriments                                 1.000000\n",
       "nervonic-acid_100g                            1.000000\n",
       "water-hardness_100g                           1.000000\n",
       "dtype: float64"
      ]
     },
     "metadata": {},
     "output_type": "display_data"
    },
    {
     "data": {
      "text/html": [
       "<div>\n",
       "<style scoped>\n",
       "    .dataframe tbody tr th:only-of-type {\n",
       "        vertical-align: middle;\n",
       "    }\n",
       "\n",
       "    .dataframe tbody tr th {\n",
       "        vertical-align: top;\n",
       "    }\n",
       "\n",
       "    .dataframe thead th {\n",
       "        text-align: right;\n",
       "    }\n",
       "</style>\n",
       "<table border=\"1\" class=\"dataframe\">\n",
       "  <thead>\n",
       "    <tr style=\"text-align: right;\">\n",
       "      <th></th>\n",
       "      <th>energy_100g</th>\n",
       "      <th>proteins_100g</th>\n",
       "      <th>salt_100g</th>\n",
       "      <th>sodium_100g</th>\n",
       "      <th>sugars_100g</th>\n",
       "      <th>fat_100g</th>\n",
       "      <th>carbohydrates_100g</th>\n",
       "      <th>saturated-fat_100g</th>\n",
       "      <th>fiber_100g</th>\n",
       "    </tr>\n",
       "  </thead>\n",
       "  <tbody>\n",
       "    <tr>\n",
       "      <th>count</th>\n",
       "      <td>2.611130e+05</td>\n",
       "      <td>259922.000000</td>\n",
       "      <td>255510.000000</td>\n",
       "      <td>255463.000000</td>\n",
       "      <td>244971.000000</td>\n",
       "      <td>243891.000000</td>\n",
       "      <td>243588.000000</td>\n",
       "      <td>229554.000000</td>\n",
       "      <td>200886.000000</td>\n",
       "    </tr>\n",
       "    <tr>\n",
       "      <th>mean</th>\n",
       "      <td>1.141915e+03</td>\n",
       "      <td>7.075940</td>\n",
       "      <td>2.028624</td>\n",
       "      <td>0.798815</td>\n",
       "      <td>16.003484</td>\n",
       "      <td>12.730379</td>\n",
       "      <td>32.073981</td>\n",
       "      <td>5.129932</td>\n",
       "      <td>2.862111</td>\n",
       "    </tr>\n",
       "    <tr>\n",
       "      <th>std</th>\n",
       "      <td>6.447154e+03</td>\n",
       "      <td>8.409054</td>\n",
       "      <td>128.269454</td>\n",
       "      <td>50.504428</td>\n",
       "      <td>22.327284</td>\n",
       "      <td>17.578747</td>\n",
       "      <td>29.731719</td>\n",
       "      <td>8.014238</td>\n",
       "      <td>12.867578</td>\n",
       "    </tr>\n",
       "    <tr>\n",
       "      <th>min</th>\n",
       "      <td>0.000000e+00</td>\n",
       "      <td>-800.000000</td>\n",
       "      <td>0.000000</td>\n",
       "      <td>0.000000</td>\n",
       "      <td>-17.860000</td>\n",
       "      <td>0.000000</td>\n",
       "      <td>0.000000</td>\n",
       "      <td>0.000000</td>\n",
       "      <td>-6.700000</td>\n",
       "    </tr>\n",
       "    <tr>\n",
       "      <th>25%</th>\n",
       "      <td>3.770000e+02</td>\n",
       "      <td>0.700000</td>\n",
       "      <td>0.063500</td>\n",
       "      <td>0.025000</td>\n",
       "      <td>1.300000</td>\n",
       "      <td>0.000000</td>\n",
       "      <td>6.000000</td>\n",
       "      <td>0.000000</td>\n",
       "      <td>0.000000</td>\n",
       "    </tr>\n",
       "    <tr>\n",
       "      <th>50%</th>\n",
       "      <td>1.100000e+03</td>\n",
       "      <td>4.760000</td>\n",
       "      <td>0.581660</td>\n",
       "      <td>0.229000</td>\n",
       "      <td>5.710000</td>\n",
       "      <td>5.000000</td>\n",
       "      <td>20.600000</td>\n",
       "      <td>1.790000</td>\n",
       "      <td>1.500000</td>\n",
       "    </tr>\n",
       "    <tr>\n",
       "      <th>75%</th>\n",
       "      <td>1.674000e+03</td>\n",
       "      <td>10.000000</td>\n",
       "      <td>1.374140</td>\n",
       "      <td>0.541000</td>\n",
       "      <td>24.000000</td>\n",
       "      <td>20.000000</td>\n",
       "      <td>58.330000</td>\n",
       "      <td>7.140000</td>\n",
       "      <td>3.600000</td>\n",
       "    </tr>\n",
       "    <tr>\n",
       "      <th>max</th>\n",
       "      <td>3.251373e+06</td>\n",
       "      <td>430.000000</td>\n",
       "      <td>64312.800000</td>\n",
       "      <td>25320.000000</td>\n",
       "      <td>3520.000000</td>\n",
       "      <td>714.290000</td>\n",
       "      <td>2916.670000</td>\n",
       "      <td>550.000000</td>\n",
       "      <td>5380.000000</td>\n",
       "    </tr>\n",
       "  </tbody>\n",
       "</table>\n",
       "</div>"
      ],
      "text/plain": [
       "        energy_100g  proteins_100g      salt_100g    sodium_100g  \\\n",
       "count  2.611130e+05  259922.000000  255510.000000  255463.000000   \n",
       "mean   1.141915e+03       7.075940       2.028624       0.798815   \n",
       "std    6.447154e+03       8.409054     128.269454      50.504428   \n",
       "min    0.000000e+00    -800.000000       0.000000       0.000000   \n",
       "25%    3.770000e+02       0.700000       0.063500       0.025000   \n",
       "50%    1.100000e+03       4.760000       0.581660       0.229000   \n",
       "75%    1.674000e+03      10.000000       1.374140       0.541000   \n",
       "max    3.251373e+06     430.000000   64312.800000   25320.000000   \n",
       "\n",
       "         sugars_100g       fat_100g  carbohydrates_100g  saturated-fat_100g  \\\n",
       "count  244971.000000  243891.000000       243588.000000       229554.000000   \n",
       "mean       16.003484      12.730379           32.073981            5.129932   \n",
       "std        22.327284      17.578747           29.731719            8.014238   \n",
       "min       -17.860000       0.000000            0.000000            0.000000   \n",
       "25%         1.300000       0.000000            6.000000            0.000000   \n",
       "50%         5.710000       5.000000           20.600000            1.790000   \n",
       "75%        24.000000      20.000000           58.330000            7.140000   \n",
       "max      3520.000000     714.290000         2916.670000          550.000000   \n",
       "\n",
       "          fiber_100g  \n",
       "count  200886.000000  \n",
       "mean        2.862111  \n",
       "std        12.867578  \n",
       "min        -6.700000  \n",
       "25%         0.000000  \n",
       "50%         1.500000  \n",
       "75%         3.600000  \n",
       "max      5380.000000  "
      ]
     },
     "metadata": {},
     "output_type": "display_data"
    },
    {
     "name": "stdout",
     "output_type": "stream",
     "text": [
      "<class 'pandas.core.frame.DataFrame'>\n",
      "RangeIndex: 320772 entries, 0 to 320771\n",
      "Data columns (total 13 columns):\n",
      " #   Column              Non-Null Count   Dtype  \n",
      "---  ------              --------------   -----  \n",
      " 0   product_name        303010 non-null  object \n",
      " 1   countries_fr        320492 non-null  object \n",
      " 2   pnns_groups_2       94491 non-null   object \n",
      " 3   energy_100g         261113 non-null  float64\n",
      " 4   proteins_100g       259922 non-null  float64\n",
      " 5   salt_100g           255510 non-null  float64\n",
      " 6   sodium_100g         255463 non-null  float64\n",
      " 7   sugars_100g         244971 non-null  float64\n",
      " 8   fat_100g            243891 non-null  float64\n",
      " 9   carbohydrates_100g  243588 non-null  float64\n",
      " 10  saturated-fat_100g  229554 non-null  float64\n",
      " 11  fiber_100g          200886 non-null  float64\n",
      " 12  nutrition_grade_fr  221210 non-null  object \n",
      "dtypes: float64(9), object(4)\n",
      "memory usage: 31.8+ MB\n"
     ]
    },
    {
     "data": {
      "text/plain": [
       "None"
      ]
     },
     "metadata": {},
     "output_type": "display_data"
    },
    {
     "data": {
      "text/plain": [
       "countries_fr          0.000873\n",
       "product_name          0.055373\n",
       "energy_100g           0.185986\n",
       "proteins_100g         0.189699\n",
       "salt_100g             0.203453\n",
       "sodium_100g           0.203599\n",
       "sugars_100g           0.236308\n",
       "fat_100g              0.239675\n",
       "carbohydrates_100g    0.240620\n",
       "saturated-fat_100g    0.284370\n",
       "nutrition_grade_fr    0.310382\n",
       "fiber_100g            0.373742\n",
       "pnns_groups_2         0.705426\n",
       "dtype: float64"
      ]
     },
     "metadata": {},
     "output_type": "display_data"
    },
    {
     "data": {
      "image/png": "[encoded data removed]",
      "text/plain": [
       "<Figure size 640x480 with 2 Axes>"
      ]
     },
     "metadata": {},
     "output_type": "display_data"
    }
   ],
   "source": [
    "def introducing_data():\n",
    "    '''Import des données provenant du fichier csv dans un dataframe et affichage du pourcentage des valeurs manquantes\n",
    "    Output : Dataframe'''\n",
    "    df = pd.read_csv(\"fr.openfoodfacts.org.products.csv\", sep = \"\\t\")\n",
    "    print(f\"Le jeu de données comporte {df.shape[0]} lignes et {df.shape[1]} colonnes\")\n",
    "    display(df.isna().mean().sort_values())\n",
    "    return df\n",
    "\n",
    "def select_variables(df):\n",
    "    ''' Selection des variables pertinentes, affichage des informations sur ces variables et visualisation des valeurs manquantes\n",
    "    Input : Dataframe, Output : Dataframe'''\n",
    "    df = df[df.columns[df.isna().mean() < 0.9]]\n",
    "    cols = ['product_name', 'countries_fr', 'pnns_groups_2', 'energy_100g', 'proteins_100g', 'salt_100g', 'sodium_100g', 'sugars_100g', 'fat_100g', 'carbohydrates_100g', 'saturated-fat_100g', 'fiber_100g','nutrition_grade_fr']\n",
    "    df = df[cols]\n",
    "    display(df.describe())\n",
    "    display(df.info())\n",
    "    display(df.isna().mean().sort_values())\n",
    "    sns.heatmap(df.isna().T,cmap=\"YlGnBu\",\n",
    "            cbar_kws={'label': 'Missing Data'})\n",
    "    plt.title(\"Visualisation des valeurs manquantes avec Heatmap\")\n",
    "    return df\n",
    "    \n",
    "df = introducing_data()\n",
    "df = select_variables(df)"
   ]
  },
  {
   "cell_type": "markdown",
   "id": "62359a68",
   "metadata": {},
   "source": [
    "## Suppresion de données inexploitables"
   ]
  },
  {
   "cell_type": "markdown",
   "id": "60034a7a",
   "metadata": {},
   "source": [
    "### Vérification et suppression des doublons"
   ]
  },
  {
   "cell_type": "code",
   "execution_count": 4,
   "id": "bd79ae39",
   "metadata": {},
   "outputs": [
    {
     "name": "stdout",
     "output_type": "stream",
     "text": [
      "Il existe 36591 doublons dans notre jeu de données\n"
     ]
    }
   ],
   "source": [
    "def drop_duplicates(df):\n",
    "    '''Suppression des produits dupliqués\n",
    "    Input: Dataframe, Output : Dataframe'''\n",
    "    duplicate = df[df.duplicated()] \n",
    "    print(f\"Il existe {duplicate.shape[0]} doublons dans notre jeu de données\")\n",
    "    df = df.drop_duplicates()\n",
    "    return df\n",
    "df = drop_duplicates(df)"
   ]
  },
  {
   "cell_type": "markdown",
   "id": "ee9d05e1",
   "metadata": {},
   "source": [
    "### Suppression valeurs aberrantes"
   ]
  },
  {
   "cell_type": "markdown",
   "id": "cfcd65e9",
   "metadata": {},
   "source": [
    "**Tableau fixant les éventuelles valeurs aberrantes en tenant compte du contexte métier**"
   ]
  },
  {
   "cell_type": "markdown",
   "id": "964b4bb2",
   "metadata": {},
   "source": [
    "**Valeurs limites pour .max :**  \n",
    "-Max de energy. 3700kj  \n",
    "-Max de proteins_100g. Spiruline en poudre : 57,5 gr.  \n",
    "-Max de salt_100g. Sel non iodé non fluoré : 100,00 gr  \n",
    "-Max de sodium. Sel non iodé non fuoré : 100/ 2,5 = 40 gr    \n",
    "-Max sugars_100gr. Sucre : 100gr  \n",
    "-Max fat_100gr. Huile : 100gr  \n",
    "-Max carbohydrates_100gr (glucides). Max = Sucre = 100gr  \n",
    "-Max saturated-fat_100gr. Pains de friture = 92,60gr  \n",
    "-Max fiber_100gr. Graines de chia = 38gr \n",
    "\n",
    "<!-- -Max cholesterol_100gr. Cervelle de porcs : 2195 mg.  \n",
    "-Max trans-fat_100gr. pain de friture : 92,60gr  \n",
    "-Max calcium_100gr. Basilic séché : 2240 mg   \n",
    "-Max vitamin-c_100gr. Prune de kakadu : 3200mg  \n",
    "-Max iron_100gr. Le foie de porc : 18mg  \n",
    "-Max vitamin-a_100gr. L’huile de foie de morue : 30 000 µg/100g   -->"
   ]
  },
  {
   "cell_type": "markdown",
   "id": "555b22b7",
   "metadata": {},
   "source": [
    "#### Suppression des valeurs négatives"
   ]
  },
  {
   "cell_type": "code",
   "execution_count": 5,
   "id": "ca676f90",
   "metadata": {},
   "outputs": [
    {
     "name": "stdout",
     "output_type": "stream",
     "text": [
      "Il existe 11 produits avec des valeurs négatives\n"
     ]
    }
   ],
   "source": [
    "def drop_negatives(df):\n",
    "    '''Suppression des produits contenant des valeurs négatives\n",
    "    Input: Dataframe, Output : Dataframe'''\n",
    "    list_x = []\n",
    "    for i in df.select_dtypes('float'):\n",
    "        df_negative = df.loc[df[i] < 0, : ]\n",
    "        list_x.append(df_negative)\n",
    "\n",
    "    df_negative = pd.concat(list_x)    \n",
    "    print(f\"Il existe {df_negative.shape[0]} produits avec des valeurs négatives\")\n",
    "    df.drop(df_negative.index, axis = 0, inplace=True)\n",
    "    return df\n",
    "\n",
    "df = drop_negatives(df)"
   ]
  },
  {
   "cell_type": "markdown",
   "id": "ea1bb615",
   "metadata": {},
   "source": [
    "#### Variable 'product_name' 'countries_fr'"
   ]
  },
  {
   "cell_type": "markdown",
   "id": "c84596bd",
   "metadata": {},
   "source": [
    "Suppression des valeurs manquantes pour 'product_name', 'countries_fr' car difficile à imputer"
   ]
  },
  {
   "cell_type": "code",
   "execution_count": 6,
   "id": "8bc5fff4",
   "metadata": {},
   "outputs": [
    {
     "name": "stdout",
     "output_type": "stream",
     "text": [
      "Le nombre de produits dont le nom, le pays ou la marque sont absents est de 3794\n"
     ]
    }
   ],
   "source": [
    "def drop_products(df):\n",
    "    '''Suppression des produits ne contenant pas de nom de produits ou de pays de provenance\n",
    "    Input: Dataframe, Output : Dataframe'''\n",
    "    index_nan = df.loc[(df.countries_fr.isna()) | (df.product_name.isna()), :].index\n",
    "    print(f\"Le nombre de produits dont le nom, le pays ou la marque sont absents est de {index_nan.shape[0]}\")\n",
    "    df.drop(index_nan, axis = 0, inplace = True)\n",
    "    return df\n",
    "\n",
    "df = drop_products(df)"
   ]
  },
  {
   "cell_type": "markdown",
   "id": "565d691c",
   "metadata": {},
   "source": [
    "#### Variable 'energy_100g'"
   ]
  },
  {
   "cell_type": "markdown",
   "id": "39154968",
   "metadata": {},
   "source": [
    "-Suppression des valeurs supérieures à 3700kj pour la variable énergie (900kcal = 3700kj) ce qui représente un pourcentage de 100% de graisses pour 100g)   "
   ]
  },
  {
   "cell_type": "code",
   "execution_count": 7,
   "id": "66c4b868",
   "metadata": {},
   "outputs": [
    {
     "name": "stdout",
     "output_type": "stream",
     "text": [
      "Il existe 581 valeurs aberrantes\n",
      "count    238042.00\n",
      "mean       1117.73\n",
      "std         773.91\n",
      "min           0.00\n",
      "25%         389.00\n",
      "50%        1100.00\n",
      "75%        1674.00\n",
      "max        3700.00\n",
      "Name: energy_100g, dtype: float64\n"
     ]
    }
   ],
   "source": [
    "def drop_energy_outiers(df):\n",
    "    '''Suppression des produits contenant plus de 3700kj dans la variable energy (incohérent)\n",
    "    Input: Dataframe, Output : Dataframe'''\n",
    "    energy_outliers = df.loc[df['energy_100g'] > 3_700, : ].index\n",
    "    print(f\"Il existe {energy_outliers.shape[0]} valeurs aberrantes\")\n",
    "    df.drop(energy_outliers, axis = 0, inplace=True)\n",
    "    print(df.energy_100g.describe().round(2))\n",
    "    return df\n",
    "\n",
    "df = drop_energy_outiers(df)"
   ]
  },
  {
   "cell_type": "markdown",
   "id": "223496a5",
   "metadata": {},
   "source": [
    "####  Variable 'salt_100g', 'sugars_100g', 'carbohydrates_100g', 'fat_100g', 'fiber_100g'"
   ]
  },
  {
   "cell_type": "code",
   "execution_count": 8,
   "id": "2f2851e5",
   "metadata": {},
   "outputs": [
    {
     "name": "stdout",
     "output_type": "stream",
     "text": [
      "Il existe 158 produits avec des valeurs incohérentes\n"
     ]
    }
   ],
   "source": [
    "def drop_inconsistent_data(df):\n",
    "    '''Suppression des aliments dont les valeurs sont supérieures à 100g pour 100g de produits (incohérent)\n",
    "    Input: Dataframe, Output : Dataframe'''\n",
    "    cols =['salt_100g', 'sugars_100g', 'carbohydrates_100g', 'fat_100g', 'fiber_100g']\n",
    "    list_x= []\n",
    "    for i in df[cols]:\n",
    "        outliers = df.loc[df[i] > 100, :]\n",
    "        list_x.append(outliers)    \n",
    "    df_outliers = pd.concat(list_x)\n",
    "    print(f\"Il existe {df_outliers.shape[0]} produits avec des valeurs incohérentes\")\n",
    "    df.drop(df_outliers.index, axis = 0, inplace=True)\n",
    "    return df\n",
    "\n",
    "df = drop_inconsistent_data(df)"
   ]
  },
  {
   "cell_type": "markdown",
   "id": "bde56905",
   "metadata": {},
   "source": [
    "#### Variable sugars et carbohydrates - Variable fat et saturated-fat"
   ]
  },
  {
   "cell_type": "markdown",
   "id": "c16a3b78",
   "metadata": {},
   "source": [
    "Suppressions des produits dont le sucre est supérieur en quantité aux glucides (incohérent)  \n",
    "Suppression des produits dont la quantité de graisse saturée est supérieur à la quantité de graisse (incohérent)"
   ]
  },
  {
   "cell_type": "code",
   "execution_count": 9,
   "id": "1784f51c",
   "metadata": {},
   "outputs": [
    {
     "name": "stdout",
     "output_type": "stream",
     "text": [
      " Le nombre de produits ou les sucres ont des valeurs aberrantes est de 665\n",
      " Le nombre de produits ou les graisses ont avec des valeurs aberrantes est de 324\n"
     ]
    }
   ],
   "source": [
    "def drop_sugars_outliers(df):\n",
    "    '''Suppression des aliments dont le sucre est supérieur aux glucides et dont les graisses saturées est supérieur aux graisses.\n",
    "    Input: Dataframe, Output : Dataframe'''\n",
    "    sugar_aberrants = df.loc[df['sugars_100g'] > df['carbohydrates_100g'], :].index\n",
    "    print(f\" Le nombre de produits ou les sucres ont des valeurs aberrantes est de {sugar_aberrants.shape[0]}\")\n",
    "    df.drop(sugar_aberrants, axis= 0, inplace= True)\n",
    "    fat_abberrants = df.loc[df['saturated-fat_100g'] > df['fat_100g'], :].index\n",
    "    print(f\" Le nombre de produits ou les graisses ont avec des valeurs aberrantes est de {fat_abberrants.shape[0]}\")\n",
    "    df.drop(fat_abberrants, axis= 0, inplace= True)\n",
    "    return df\n",
    "\n",
    "df = drop_sugars_outliers(df)"
   ]
  },
  {
   "cell_type": "markdown",
   "id": "b2a9de24",
   "metadata": {},
   "source": [
    "#### Suppresion des valeurs dont la somme cumulée des nutriments est supérieur à 100g"
   ]
  },
  {
   "cell_type": "code",
   "execution_count": 10,
   "id": "2c9a858a",
   "metadata": {},
   "outputs": [
    {
     "name": "stdout",
     "output_type": "stream",
     "text": [
      "Le nombre de produits dont la somme cumulée des nutriments est supérieur à 100g de macro nutriments est de : 19379\n"
     ]
    }
   ],
   "source": [
    "def drop_sum_nutrients(df):\n",
    "    '''Suppresion des produits dont la somme cumulée des nutriments est supérieur à 100g\n",
    "    Input: Dataframe, Output : Dataframe'''\n",
    "    nb = sum(df[['fat_100g', 'carbohydrates_100g', 'proteins_100g', 'fiber_100g', 'salt_100g']].sum(axis=1)>100)\n",
    "    print(\"Le nombre de produits dont la somme cumulée des nutriments est supérieur à 100g de macro nutriments est de : {}\".format(nb))\n",
    "    df  = df [df[['fat_100g', 'carbohydrates_100g', 'proteins_100g', 'fiber_100g', 'salt_100g']].sum(axis=1)<100]\n",
    "    return df\n",
    "\n",
    "df = drop_sum_nutrients(df)"
   ]
  },
  {
   "cell_type": "markdown",
   "id": "a1997fb4",
   "metadata": {},
   "source": [
    "### Variable Sel et Sodium"
   ]
  },
  {
   "cell_type": "code",
   "execution_count": 11,
   "id": "aebaccf9",
   "metadata": {},
   "outputs": [],
   "source": [
    "df[['salt_100g', 'sodium_100g']].corr()\n",
    "df.drop(columns= \"sodium_100g\", inplace=True)"
   ]
  },
  {
   "cell_type": "markdown",
   "id": "4e3cda90",
   "metadata": {},
   "source": [
    "Il y a une corrélation totale entre la variable 'salt_100g' et 'Sodium_100g'. Il n'est donc pas nécessaire de conserver les deux variables"
   ]
  },
  {
   "cell_type": "markdown",
   "id": "25fc8a03",
   "metadata": {},
   "source": [
    "### Produits dont on possède le moins de données"
   ]
  },
  {
   "cell_type": "markdown",
   "id": "683d864d",
   "metadata": {},
   "source": [
    "**Remarque**  \n",
    "Ces produits vont être compliqués à imputer car on a très peu voir pas d'informations.    \n",
    "Nous allons devoir les supprimer de notre échantillon pour pouvoir nous concentrer sur l'imputation des individus qui possèdent partiellement des données."
   ]
  },
  {
   "cell_type": "code",
   "execution_count": 12,
   "id": "dccc01c1",
   "metadata": {},
   "outputs": [
    {
     "data": {
      "text/html": [
       "<div>\n",
       "<style scoped>\n",
       "    .dataframe tbody tr th:only-of-type {\n",
       "        vertical-align: middle;\n",
       "    }\n",
       "\n",
       "    .dataframe tbody tr th {\n",
       "        vertical-align: top;\n",
       "    }\n",
       "\n",
       "    .dataframe thead th {\n",
       "        text-align: right;\n",
       "    }\n",
       "</style>\n",
       "<table border=\"1\" class=\"dataframe\">\n",
       "  <thead>\n",
       "    <tr style=\"text-align: right;\">\n",
       "      <th></th>\n",
       "      <th>product_name</th>\n",
       "      <th>countries_fr</th>\n",
       "      <th>pnns_groups_2</th>\n",
       "      <th>energy_100g</th>\n",
       "      <th>proteins_100g</th>\n",
       "      <th>salt_100g</th>\n",
       "      <th>sugars_100g</th>\n",
       "      <th>fat_100g</th>\n",
       "      <th>carbohydrates_100g</th>\n",
       "      <th>saturated-fat_100g</th>\n",
       "      <th>fiber_100g</th>\n",
       "      <th>nutrition_grade_fr</th>\n",
       "    </tr>\n",
       "  </thead>\n",
       "  <tbody>\n",
       "    <tr>\n",
       "      <th>0</th>\n",
       "      <td>Farine de blé noir</td>\n",
       "      <td>France</td>\n",
       "      <td>NaN</td>\n",
       "      <td>NaN</td>\n",
       "      <td>NaN</td>\n",
       "      <td>NaN</td>\n",
       "      <td>NaN</td>\n",
       "      <td>NaN</td>\n",
       "      <td>NaN</td>\n",
       "      <td>NaN</td>\n",
       "      <td>NaN</td>\n",
       "      <td>NaN</td>\n",
       "    </tr>\n",
       "    <tr>\n",
       "      <th>46</th>\n",
       "      <td>Filet de bœuf</td>\n",
       "      <td>France</td>\n",
       "      <td>unknown</td>\n",
       "      <td>NaN</td>\n",
       "      <td>NaN</td>\n",
       "      <td>NaN</td>\n",
       "      <td>NaN</td>\n",
       "      <td>NaN</td>\n",
       "      <td>NaN</td>\n",
       "      <td>NaN</td>\n",
       "      <td>NaN</td>\n",
       "      <td>NaN</td>\n",
       "    </tr>\n",
       "    <tr>\n",
       "      <th>136</th>\n",
       "      <td>Twix x2</td>\n",
       "      <td>France</td>\n",
       "      <td>unknown</td>\n",
       "      <td>NaN</td>\n",
       "      <td>NaN</td>\n",
       "      <td>NaN</td>\n",
       "      <td>NaN</td>\n",
       "      <td>NaN</td>\n",
       "      <td>NaN</td>\n",
       "      <td>NaN</td>\n",
       "      <td>NaN</td>\n",
       "      <td>NaN</td>\n",
       "    </tr>\n",
       "    <tr>\n",
       "      <th>177</th>\n",
       "      <td>Flute</td>\n",
       "      <td>Royaume-Uni</td>\n",
       "      <td>Bread</td>\n",
       "      <td>NaN</td>\n",
       "      <td>NaN</td>\n",
       "      <td>NaN</td>\n",
       "      <td>NaN</td>\n",
       "      <td>NaN</td>\n",
       "      <td>NaN</td>\n",
       "      <td>NaN</td>\n",
       "      <td>NaN</td>\n",
       "      <td>NaN</td>\n",
       "    </tr>\n",
       "    <tr>\n",
       "      <th>178</th>\n",
       "      <td>still Scottish water</td>\n",
       "      <td>Royaume-Uni</td>\n",
       "      <td>NaN</td>\n",
       "      <td>NaN</td>\n",
       "      <td>NaN</td>\n",
       "      <td>NaN</td>\n",
       "      <td>NaN</td>\n",
       "      <td>NaN</td>\n",
       "      <td>NaN</td>\n",
       "      <td>NaN</td>\n",
       "      <td>NaN</td>\n",
       "      <td>NaN</td>\n",
       "    </tr>\n",
       "    <tr>\n",
       "      <th>...</th>\n",
       "      <td>...</td>\n",
       "      <td>...</td>\n",
       "      <td>...</td>\n",
       "      <td>...</td>\n",
       "      <td>...</td>\n",
       "      <td>...</td>\n",
       "      <td>...</td>\n",
       "      <td>...</td>\n",
       "      <td>...</td>\n",
       "      <td>...</td>\n",
       "      <td>...</td>\n",
       "      <td>...</td>\n",
       "    </tr>\n",
       "    <tr>\n",
       "      <th>320764</th>\n",
       "      <td>Cheese cake thé vert, yuzu</td>\n",
       "      <td>France</td>\n",
       "      <td>NaN</td>\n",
       "      <td>NaN</td>\n",
       "      <td>NaN</td>\n",
       "      <td>NaN</td>\n",
       "      <td>NaN</td>\n",
       "      <td>NaN</td>\n",
       "      <td>NaN</td>\n",
       "      <td>NaN</td>\n",
       "      <td>NaN</td>\n",
       "      <td>NaN</td>\n",
       "    </tr>\n",
       "    <tr>\n",
       "      <th>320765</th>\n",
       "      <td>Rillette d'oie</td>\n",
       "      <td>France</td>\n",
       "      <td>Processed meat</td>\n",
       "      <td>NaN</td>\n",
       "      <td>NaN</td>\n",
       "      <td>NaN</td>\n",
       "      <td>NaN</td>\n",
       "      <td>NaN</td>\n",
       "      <td>NaN</td>\n",
       "      <td>NaN</td>\n",
       "      <td>NaN</td>\n",
       "      <td>NaN</td>\n",
       "    </tr>\n",
       "    <tr>\n",
       "      <th>320767</th>\n",
       "      <td>Tomato &amp; ricotta</td>\n",
       "      <td>Roumanie</td>\n",
       "      <td>NaN</td>\n",
       "      <td>NaN</td>\n",
       "      <td>NaN</td>\n",
       "      <td>NaN</td>\n",
       "      <td>NaN</td>\n",
       "      <td>NaN</td>\n",
       "      <td>NaN</td>\n",
       "      <td>NaN</td>\n",
       "      <td>NaN</td>\n",
       "      <td>NaN</td>\n",
       "    </tr>\n",
       "    <tr>\n",
       "      <th>320769</th>\n",
       "      <td>乐吧泡菜味薯片</td>\n",
       "      <td>Chine</td>\n",
       "      <td>Appetizers</td>\n",
       "      <td>NaN</td>\n",
       "      <td>NaN</td>\n",
       "      <td>NaN</td>\n",
       "      <td>NaN</td>\n",
       "      <td>NaN</td>\n",
       "      <td>NaN</td>\n",
       "      <td>NaN</td>\n",
       "      <td>NaN</td>\n",
       "      <td>NaN</td>\n",
       "    </tr>\n",
       "    <tr>\n",
       "      <th>320770</th>\n",
       "      <td>Tomates aux Vermicelles</td>\n",
       "      <td>France</td>\n",
       "      <td>NaN</td>\n",
       "      <td>NaN</td>\n",
       "      <td>NaN</td>\n",
       "      <td>NaN</td>\n",
       "      <td>NaN</td>\n",
       "      <td>NaN</td>\n",
       "      <td>NaN</td>\n",
       "      <td>NaN</td>\n",
       "      <td>NaN</td>\n",
       "      <td>NaN</td>\n",
       "    </tr>\n",
       "  </tbody>\n",
       "</table>\n",
       "<p>40338 rows × 12 columns</p>\n",
       "</div>"
      ],
      "text/plain": [
       "                      product_name countries_fr   pnns_groups_2  energy_100g  \\\n",
       "0               Farine de blé noir       France             NaN          NaN   \n",
       "46                   Filet de bœuf       France         unknown          NaN   \n",
       "136                        Twix x2       France         unknown          NaN   \n",
       "177                          Flute  Royaume-Uni           Bread          NaN   \n",
       "178           still Scottish water  Royaume-Uni             NaN          NaN   \n",
       "...                            ...          ...             ...          ...   \n",
       "320764  Cheese cake thé vert, yuzu       France             NaN          NaN   \n",
       "320765              Rillette d'oie       France  Processed meat          NaN   \n",
       "320767           Tomato & ricotta      Roumanie             NaN          NaN   \n",
       "320769                     乐吧泡菜味薯片        Chine      Appetizers          NaN   \n",
       "320770    Tomates aux Vermicelles        France             NaN          NaN   \n",
       "\n",
       "        proteins_100g  salt_100g  sugars_100g  fat_100g  carbohydrates_100g  \\\n",
       "0                 NaN        NaN          NaN       NaN                 NaN   \n",
       "46                NaN        NaN          NaN       NaN                 NaN   \n",
       "136               NaN        NaN          NaN       NaN                 NaN   \n",
       "177               NaN        NaN          NaN       NaN                 NaN   \n",
       "178               NaN        NaN          NaN       NaN                 NaN   \n",
       "...               ...        ...          ...       ...                 ...   \n",
       "320764            NaN        NaN          NaN       NaN                 NaN   \n",
       "320765            NaN        NaN          NaN       NaN                 NaN   \n",
       "320767            NaN        NaN          NaN       NaN                 NaN   \n",
       "320769            NaN        NaN          NaN       NaN                 NaN   \n",
       "320770            NaN        NaN          NaN       NaN                 NaN   \n",
       "\n",
       "        saturated-fat_100g  fiber_100g nutrition_grade_fr  \n",
       "0                      NaN         NaN                NaN  \n",
       "46                     NaN         NaN                NaN  \n",
       "136                    NaN         NaN                NaN  \n",
       "177                    NaN         NaN                NaN  \n",
       "178                    NaN         NaN                NaN  \n",
       "...                    ...         ...                ...  \n",
       "320764                 NaN         NaN                NaN  \n",
       "320765                 NaN         NaN                NaN  \n",
       "320767                 NaN         NaN                NaN  \n",
       "320769                 NaN         NaN                NaN  \n",
       "320770                 NaN         NaN                NaN  \n",
       "\n",
       "[40338 rows x 12 columns]"
      ]
     },
     "metadata": {},
     "output_type": "display_data"
    },
    {
     "name": "stdout",
     "output_type": "stream",
     "text": [
      "Il existe 40338 produits dont il manque toutes les données sur les nutriments.\n"
     ]
    }
   ],
   "source": [
    "def drop_empty_data(df):\n",
    "    '''Suppresion des produits dont on ne possède aucune information sur les nutriments.\n",
    "    Input: Dataframe, Output : Dataframe'''\n",
    "    nutriments = ['sugars_100g', 'carbohydrates_100g', 'fat_100g', 'saturated-fat_100g', 'salt_100g', 'proteins_100g', 'energy_100g']\n",
    "    data_empty = df[df[nutriments].isnull().sum(axis=1) > 6]\n",
    "    display(data_empty)\n",
    "    print(f\"Il existe {data_empty.shape[0]} produits dont il manque toutes les données sur les nutriments.\")    \n",
    "    df.drop(data_empty.index, axis= 0, inplace= True)\n",
    "    return df\n",
    "\n",
    "df = drop_empty_data(df)"
   ]
  },
  {
   "cell_type": "markdown",
   "id": "4e4a356d",
   "metadata": {},
   "source": [
    "### Variable fibre et proteines"
   ]
  },
  {
   "cell_type": "code",
   "execution_count": 13,
   "id": "c48b0a1e",
   "metadata": {
    "scrolled": true
   },
   "outputs": [
    {
     "name": "stdout",
     "output_type": "stream",
     "text": [
      "Il y a 311 produits dont les données sont inconhérentes pour la variable fibre ou protéines.\n"
     ]
    }
   ],
   "source": [
    "outliers = df.loc[(df['fiber_100g'] > 38) | (df['proteins_100g']> 58), :]\n",
    "print(f\"Il y a {outliers.shape[0]} produits dont les données sont inconhérentes pour la variable fibre ou protéines.\")\n",
    "df.drop(outliers.index, axis= 0, inplace= True)"
   ]
  },
  {
   "cell_type": "markdown",
   "id": "2f247ac4",
   "metadata": {},
   "source": [
    "### Variable 'nutrition_grade'"
   ]
  },
  {
   "cell_type": "code",
   "execution_count": 14,
   "id": "9ffea9e2",
   "metadata": {},
   "outputs": [
    {
     "name": "stdout",
     "output_type": "stream",
     "text": [
      "Il existe 33441 produits sans nutri-score\n"
     ]
    }
   ],
   "source": [
    "print(f\"Il existe {df['nutrition_grade_fr'].isna().sum()} produits sans nutri-score\")\n",
    "df.dropna(subset=['nutrition_grade_fr'], inplace = True)"
   ]
  },
  {
   "cell_type": "markdown",
   "id": "c0319946",
   "metadata": {},
   "source": [
    "## Imputation des données manquantes"
   ]
  },
  {
   "cell_type": "markdown",
   "id": "3c93a6b6",
   "metadata": {},
   "source": [
    "**A ce stade, voici les variables avec leur pourcentages de valeurs manquantes**"
   ]
  },
  {
   "cell_type": "code",
   "execution_count": 15,
   "id": "6c743820",
   "metadata": {
    "scrolled": true
   },
   "outputs": [
    {
     "data": {
      "text/plain": [
       "product_name          0.000000\n",
       "countries_fr          0.000000\n",
       "energy_100g           0.000000\n",
       "proteins_100g         0.000000\n",
       "salt_100g             0.000000\n",
       "sugars_100g           0.000000\n",
       "saturated-fat_100g    0.000000\n",
       "nutrition_grade_fr    0.000000\n",
       "fat_100g              0.092491\n",
       "carbohydrates_100g    0.092660\n",
       "fiber_100g            0.138443\n",
       "pnns_groups_2         0.679013\n",
       "dtype: float64"
      ]
     },
     "execution_count": 15,
     "metadata": {},
     "output_type": "execute_result"
    }
   ],
   "source": [
    "df.isna().mean().sort_values()"
   ]
  },
  {
   "cell_type": "markdown",
   "id": "07380cbe",
   "metadata": {},
   "source": [
    "### Variable fibre"
   ]
  },
  {
   "cell_type": "markdown",
   "id": "b22cd3ac",
   "metadata": {},
   "source": [
    "**Remplissage des valeurs manquantes pour les fibres**  \n",
    "Les quantités de fibre n'étant pas nécessairement renseigné sur les produits.  \n",
    "On partira du postulat que si l'information n'est pas présente, c'est que sa valeur est nulle."
   ]
  },
  {
   "cell_type": "code",
   "execution_count": 16,
   "id": "70a7c207",
   "metadata": {},
   "outputs": [],
   "source": [
    "df[\"fiber_100g\"] = df[\"fiber_100g\"].fillna(0)"
   ]
  },
  {
   "cell_type": "markdown",
   "id": "d3590574",
   "metadata": {},
   "source": [
    "### Variables carbohydrates et fat."
   ]
  },
  {
   "cell_type": "markdown",
   "id": "ef1c3d0f",
   "metadata": {},
   "source": [
    "On se servira de nos variables fiber et sugars afin d'imputer la variable carbohydrates.  \n",
    "On se servira de notre variable saturated-fat afin d'imputer la variable fat"
   ]
  },
  {
   "cell_type": "code",
   "execution_count": 17,
   "id": "f96a5323",
   "metadata": {
    "scrolled": true
   },
   "outputs": [],
   "source": [
    "nutriments = ['energy_100g','sugars_100g','carbohydrates_100g','saturated-fat_100g','fat_100g', 'proteins_100g']\n",
    "\n",
    "def impute_data(data, columns, imputer):\n",
    "    '''Imputation des valeurs manquantes pour les colonnes fournis en paramètre de la fonction.\n",
    "    Input: Dataframe, Colonnes concernées, Imputer, Output : Colonnes concernées avec données imputées'''\n",
    "    X = data[columns]\n",
    "    display(X)\n",
    "    features = X.columns\n",
    "    X_scaled = imputer.fit_transform(X)\n",
    "    X_scaled = pd.DataFrame(X_scaled)\n",
    "    X_scaled.columns = features\n",
    "    display(X_scaled)\n",
    "    data = X_scaled\n",
    "    return data\n",
    "\n",
    "def apply_constraints(row):\n",
    "    '''Application d'une contrainte sur les variable glucides/sucres et sur les variables lipides/graisses_saturées\n",
    "    Input: Dataframe, Output : Dataframe'''\n",
    "    if row['sugars_100g'] > row['carbohydrates_100g']:\n",
    "        row['sugars_100g'] = row['carbohydrates_100g']\n",
    "    if row['saturated-fat_100g'] > row['fat_100g']:\n",
    "        row['saturated-fat_100g'] = row['fat_100g']\n",
    "    return row\n",
    "\n",
    "def replace_imputed(df, df_impute, col):\n",
    "    '''Remplacement dans le dataframe original des valeurs manquantes par les valeurs imputées\n",
    "    Input: Dataframe, Données imputées, Colonnes concernées'''\n",
    "    for i in df[col]:\n",
    "        df[i] = df[i].fillna(df_impute[i])"
   ]
  },
  {
   "cell_type": "code",
   "execution_count": 18,
   "id": "22526abe",
   "metadata": {},
   "outputs": [
    {
     "data": {
      "text/html": [
       "<div>\n",
       "<style scoped>\n",
       "    .dataframe tbody tr th:only-of-type {\n",
       "        vertical-align: middle;\n",
       "    }\n",
       "\n",
       "    .dataframe tbody tr th {\n",
       "        vertical-align: top;\n",
       "    }\n",
       "\n",
       "    .dataframe thead th {\n",
       "        text-align: right;\n",
       "    }\n",
       "</style>\n",
       "<table border=\"1\" class=\"dataframe\">\n",
       "  <thead>\n",
       "    <tr style=\"text-align: right;\">\n",
       "      <th></th>\n",
       "      <th>energy_100g</th>\n",
       "      <th>sugars_100g</th>\n",
       "      <th>carbohydrates_100g</th>\n",
       "      <th>saturated-fat_100g</th>\n",
       "      <th>fat_100g</th>\n",
       "      <th>proteins_100g</th>\n",
       "    </tr>\n",
       "  </thead>\n",
       "  <tbody>\n",
       "    <tr>\n",
       "      <th>12</th>\n",
       "      <td>2230.0</td>\n",
       "      <td>3.33</td>\n",
       "      <td>36.67</td>\n",
       "      <td>5.00</td>\n",
       "      <td>36.67</td>\n",
       "      <td>16.67</td>\n",
       "    </tr>\n",
       "    <tr>\n",
       "      <th>19</th>\n",
       "      <td>1096.0</td>\n",
       "      <td>2.38</td>\n",
       "      <td>66.67</td>\n",
       "      <td>1.19</td>\n",
       "      <td>5.95</td>\n",
       "      <td>16.67</td>\n",
       "    </tr>\n",
       "    <tr>\n",
       "      <th>20</th>\n",
       "      <td>1464.0</td>\n",
       "      <td>32.50</td>\n",
       "      <td>42.50</td>\n",
       "      <td>7.50</td>\n",
       "      <td>17.50</td>\n",
       "      <td>7.50</td>\n",
       "    </tr>\n",
       "    <tr>\n",
       "      <th>23</th>\n",
       "      <td>2372.0</td>\n",
       "      <td>6.67</td>\n",
       "      <td>23.33</td>\n",
       "      <td>3.33</td>\n",
       "      <td>50.00</td>\n",
       "      <td>6.67</td>\n",
       "    </tr>\n",
       "    <tr>\n",
       "      <th>24</th>\n",
       "      <td>1954.0</td>\n",
       "      <td>33.33</td>\n",
       "      <td>60.00</td>\n",
       "      <td>2.22</td>\n",
       "      <td>20.00</td>\n",
       "      <td>8.89</td>\n",
       "    </tr>\n",
       "    <tr>\n",
       "      <th>...</th>\n",
       "      <td>...</td>\n",
       "      <td>...</td>\n",
       "      <td>...</td>\n",
       "      <td>...</td>\n",
       "      <td>...</td>\n",
       "      <td>...</td>\n",
       "    </tr>\n",
       "    <tr>\n",
       "      <th>320742</th>\n",
       "      <td>1477.0</td>\n",
       "      <td>2.35</td>\n",
       "      <td>87.06</td>\n",
       "      <td>0.00</td>\n",
       "      <td>0.00</td>\n",
       "      <td>1.18</td>\n",
       "    </tr>\n",
       "    <tr>\n",
       "      <th>320751</th>\n",
       "      <td>1643.0</td>\n",
       "      <td>2.60</td>\n",
       "      <td>74.80</td>\n",
       "      <td>0.60</td>\n",
       "      <td>2.80</td>\n",
       "      <td>13.00</td>\n",
       "    </tr>\n",
       "    <tr>\n",
       "      <th>320757</th>\n",
       "      <td>2406.0</td>\n",
       "      <td>3.89</td>\n",
       "      <td>NaN</td>\n",
       "      <td>3.73</td>\n",
       "      <td>NaN</td>\n",
       "      <td>21.22</td>\n",
       "    </tr>\n",
       "    <tr>\n",
       "      <th>320763</th>\n",
       "      <td>21.0</td>\n",
       "      <td>0.50</td>\n",
       "      <td>0.50</td>\n",
       "      <td>0.20</td>\n",
       "      <td>0.20</td>\n",
       "      <td>0.50</td>\n",
       "    </tr>\n",
       "    <tr>\n",
       "      <th>320768</th>\n",
       "      <td>0.0</td>\n",
       "      <td>0.00</td>\n",
       "      <td>0.00</td>\n",
       "      <td>0.00</td>\n",
       "      <td>0.00</td>\n",
       "      <td>0.00</td>\n",
       "    </tr>\n",
       "  </tbody>\n",
       "</table>\n",
       "<p>182559 rows × 6 columns</p>\n",
       "</div>"
      ],
      "text/plain": [
       "        energy_100g  sugars_100g  carbohydrates_100g  saturated-fat_100g  \\\n",
       "12           2230.0         3.33               36.67                5.00   \n",
       "19           1096.0         2.38               66.67                1.19   \n",
       "20           1464.0        32.50               42.50                7.50   \n",
       "23           2372.0         6.67               23.33                3.33   \n",
       "24           1954.0        33.33               60.00                2.22   \n",
       "...             ...          ...                 ...                 ...   \n",
       "320742       1477.0         2.35               87.06                0.00   \n",
       "320751       1643.0         2.60               74.80                0.60   \n",
       "320757       2406.0         3.89                 NaN                3.73   \n",
       "320763         21.0         0.50                0.50                0.20   \n",
       "320768          0.0         0.00                0.00                0.00   \n",
       "\n",
       "        fat_100g  proteins_100g  \n",
       "12         36.67          16.67  \n",
       "19          5.95          16.67  \n",
       "20         17.50           7.50  \n",
       "23         50.00           6.67  \n",
       "24         20.00           8.89  \n",
       "...          ...            ...  \n",
       "320742      0.00           1.18  \n",
       "320751      2.80          13.00  \n",
       "320757       NaN          21.22  \n",
       "320763      0.20           0.50  \n",
       "320768      0.00           0.00  \n",
       "\n",
       "[182559 rows x 6 columns]"
      ]
     },
     "metadata": {},
     "output_type": "display_data"
    },
    {
     "data": {
      "text/html": [
       "<div>\n",
       "<style scoped>\n",
       "    .dataframe tbody tr th:only-of-type {\n",
       "        vertical-align: middle;\n",
       "    }\n",
       "\n",
       "    .dataframe tbody tr th {\n",
       "        vertical-align: top;\n",
       "    }\n",
       "\n",
       "    .dataframe thead th {\n",
       "        text-align: right;\n",
       "    }\n",
       "</style>\n",
       "<table border=\"1\" class=\"dataframe\">\n",
       "  <thead>\n",
       "    <tr style=\"text-align: right;\">\n",
       "      <th></th>\n",
       "      <th>energy_100g</th>\n",
       "      <th>sugars_100g</th>\n",
       "      <th>carbohydrates_100g</th>\n",
       "      <th>saturated-fat_100g</th>\n",
       "      <th>fat_100g</th>\n",
       "      <th>proteins_100g</th>\n",
       "    </tr>\n",
       "  </thead>\n",
       "  <tbody>\n",
       "    <tr>\n",
       "      <th>0</th>\n",
       "      <td>2230.0</td>\n",
       "      <td>3.33</td>\n",
       "      <td>36.67</td>\n",
       "      <td>5.00</td>\n",
       "      <td>36.67</td>\n",
       "      <td>16.67</td>\n",
       "    </tr>\n",
       "    <tr>\n",
       "      <th>1</th>\n",
       "      <td>1096.0</td>\n",
       "      <td>2.38</td>\n",
       "      <td>66.67</td>\n",
       "      <td>1.19</td>\n",
       "      <td>5.95</td>\n",
       "      <td>16.67</td>\n",
       "    </tr>\n",
       "    <tr>\n",
       "      <th>2</th>\n",
       "      <td>1464.0</td>\n",
       "      <td>32.50</td>\n",
       "      <td>42.50</td>\n",
       "      <td>7.50</td>\n",
       "      <td>17.50</td>\n",
       "      <td>7.50</td>\n",
       "    </tr>\n",
       "    <tr>\n",
       "      <th>3</th>\n",
       "      <td>2372.0</td>\n",
       "      <td>6.67</td>\n",
       "      <td>23.33</td>\n",
       "      <td>3.33</td>\n",
       "      <td>50.00</td>\n",
       "      <td>6.67</td>\n",
       "    </tr>\n",
       "    <tr>\n",
       "      <th>4</th>\n",
       "      <td>1954.0</td>\n",
       "      <td>33.33</td>\n",
       "      <td>60.00</td>\n",
       "      <td>2.22</td>\n",
       "      <td>20.00</td>\n",
       "      <td>8.89</td>\n",
       "    </tr>\n",
       "    <tr>\n",
       "      <th>...</th>\n",
       "      <td>...</td>\n",
       "      <td>...</td>\n",
       "      <td>...</td>\n",
       "      <td>...</td>\n",
       "      <td>...</td>\n",
       "      <td>...</td>\n",
       "    </tr>\n",
       "    <tr>\n",
       "      <th>182554</th>\n",
       "      <td>1477.0</td>\n",
       "      <td>2.35</td>\n",
       "      <td>87.06</td>\n",
       "      <td>0.00</td>\n",
       "      <td>0.00</td>\n",
       "      <td>1.18</td>\n",
       "    </tr>\n",
       "    <tr>\n",
       "      <th>182555</th>\n",
       "      <td>1643.0</td>\n",
       "      <td>2.60</td>\n",
       "      <td>74.80</td>\n",
       "      <td>0.60</td>\n",
       "      <td>2.80</td>\n",
       "      <td>13.00</td>\n",
       "    </tr>\n",
       "    <tr>\n",
       "      <th>182556</th>\n",
       "      <td>2406.0</td>\n",
       "      <td>3.89</td>\n",
       "      <td>18.46</td>\n",
       "      <td>3.73</td>\n",
       "      <td>48.28</td>\n",
       "      <td>21.22</td>\n",
       "    </tr>\n",
       "    <tr>\n",
       "      <th>182557</th>\n",
       "      <td>21.0</td>\n",
       "      <td>0.50</td>\n",
       "      <td>0.50</td>\n",
       "      <td>0.20</td>\n",
       "      <td>0.20</td>\n",
       "      <td>0.50</td>\n",
       "    </tr>\n",
       "    <tr>\n",
       "      <th>182558</th>\n",
       "      <td>0.0</td>\n",
       "      <td>0.00</td>\n",
       "      <td>0.00</td>\n",
       "      <td>0.00</td>\n",
       "      <td>0.00</td>\n",
       "      <td>0.00</td>\n",
       "    </tr>\n",
       "  </tbody>\n",
       "</table>\n",
       "<p>182559 rows × 6 columns</p>\n",
       "</div>"
      ],
      "text/plain": [
       "        energy_100g  sugars_100g  carbohydrates_100g  saturated-fat_100g  \\\n",
       "0            2230.0         3.33               36.67                5.00   \n",
       "1            1096.0         2.38               66.67                1.19   \n",
       "2            1464.0        32.50               42.50                7.50   \n",
       "3            2372.0         6.67               23.33                3.33   \n",
       "4            1954.0        33.33               60.00                2.22   \n",
       "...             ...          ...                 ...                 ...   \n",
       "182554       1477.0         2.35               87.06                0.00   \n",
       "182555       1643.0         2.60               74.80                0.60   \n",
       "182556       2406.0         3.89               18.46                3.73   \n",
       "182557         21.0         0.50                0.50                0.20   \n",
       "182558          0.0         0.00                0.00                0.00   \n",
       "\n",
       "        fat_100g  proteins_100g  \n",
       "0          36.67          16.67  \n",
       "1           5.95          16.67  \n",
       "2          17.50           7.50  \n",
       "3          50.00           6.67  \n",
       "4          20.00           8.89  \n",
       "...          ...            ...  \n",
       "182554      0.00           1.18  \n",
       "182555      2.80          13.00  \n",
       "182556     48.28          21.22  \n",
       "182557      0.20           0.50  \n",
       "182558      0.00           0.00  \n",
       "\n",
       "[182559 rows x 6 columns]"
      ]
     },
     "metadata": {},
     "output_type": "display_data"
    }
   ],
   "source": [
    "imputer = KNNImputer()\n",
    "data_imputed = impute_data(df, nutriments, imputer)\n",
    "df = df.reset_index(drop=True)\n",
    "replace_imputed(df, data_imputed, nutriments)\n",
    "df = df.apply(apply_constraints, axis=1)"
   ]
  },
  {
   "cell_type": "markdown",
   "id": "a130cb54",
   "metadata": {},
   "source": [
    "### Variable \"pnns_groups_2\" (catégorie de l'aliment)"
   ]
  },
  {
   "cell_type": "markdown",
   "id": "60fc9a26",
   "metadata": {},
   "source": [
    "Pour imputer cette variable qui possèdent une majorité de valeurs manquantes de manière la plus précise possible, nous allons entrainer un modèle sur les données disponibles afin de l'utiliser pour l'imputation.  \n",
    "Afin d'exploiter la variable 'nutrition_grade_fr' pour nous aider à imputer la variable pnns_groups_2, un remplacement des modalités catégoriques par un numérique est nécessaire.  \n",
    "Nous remplacerons les produits marqués en \"unknown\" par des np.nan pour les inclure dans l'imputation.  \n",
    "Enfin, il faudra supprimer les doublons de catégorie, la variable pnns_groups_2 comporte 5 modalités étant des doublons."
   ]
  },
  {
   "cell_type": "code",
   "execution_count": 19,
   "id": "ee19e541",
   "metadata": {},
   "outputs": [
    {
     "name": "stdout",
     "output_type": "stream",
     "text": [
      "Il existe 678 produits ayant un doublon de catégorie\n"
     ]
    }
   ],
   "source": [
    "def drop_category_duplicates(df):\n",
    "    '''Suppression des doublons de catégorie d'aliment, remplacement du nutriscore par des numériques, remplacement des aliments\n",
    "    de catégorie \"Unknown\" par des valeurs manquantes, réinitialisation de l'index.\n",
    "    Input: Dataframe, Output: Dataframe'''\n",
    "    df['nutrition_grade_fr'].replace(['a', 'b', 'c','d', 'e'], [0, 1, 2, 3, 4], inplace=True)\n",
    "    df['pnns_groups_2'].replace(\"unknown\", np.nan, inplace = True)\n",
    "    duplicata_modal = df.loc[(df['pnns_groups_2'] == \"nuts\")| (df['pnns_groups_2'] == \"vegetables\") |\n",
    "                             (df['pnns_groups_2'] == \"cereals\") | (df['pnns_groups_2'] == \"legumes\") |\n",
    "                             (df['pnns_groups_2'] == \"fruits\"), :]\n",
    "    print(f\"Il existe {duplicata_modal.shape[0]} produits ayant un doublon de catégorie\")\n",
    "    df.drop(duplicata_modal.index, axis= 0, inplace = True)\n",
    "    df = df.reset_index(drop=True)\n",
    "    return df\n",
    "\n",
    "df = drop_category_duplicates(df)"
   ]
  },
  {
   "cell_type": "markdown",
   "id": "1f811240",
   "metadata": {},
   "source": [
    "Ci dessous, les variables qui vont nous servir à prédire la catégorie de l'aliment.  \n",
    "Nous utiliserons LabelEncoder pour encoder notre variable pnns_groups_2 et pour la décoder par la suite."
   ]
  },
  {
   "cell_type": "code",
   "execution_count": 20,
   "id": "4decfc89",
   "metadata": {},
   "outputs": [],
   "source": [
    "columns = ['sugars_100g', 'carbohydrates_100g', 'fat_100g', 'saturated-fat_100g', 'salt_100g', 'proteins_100g', 'energy_100g', 'nutrition_grade_fr']\n",
    "\n",
    "# LabelEncoder va être utilisé pour encoder notre variable pnns_groups_2 de type catégorielle.\n",
    "le = LabelEncoder()"
   ]
  },
  {
   "cell_type": "code",
   "execution_count": 21,
   "id": "0c3c6431",
   "metadata": {},
   "outputs": [
    {
     "name": "stdout",
     "output_type": "stream",
     "text": [
      "La performance du modèle est de 85.0 %\n"
     ]
    }
   ],
   "source": [
    "def fit_model(df):\n",
    "    '''Suppression des valeurs manquantes, encodage des catégories d'aliments, séparation du dataframe en données d'entrainement\n",
    "    et en données de test, entrainement du modèle et affichage du score de précision.\n",
    "    Input: Dataframe, Output: Modèle de machine learning'''\n",
    "    # Suppression des lignes contenant des valeurs manquantes dans les variables explicatives et la variable cible\n",
    "    df_clean = df.dropna(subset=['sugars_100g', 'carbohydrates_100g', 'fat_100g', 'saturated-fat_100g', 'salt_100g', 'proteins_100g', 'energy_100g', 'nutrition_grade_fr', 'pnns_groups_2'])\n",
    "\n",
    "    # Séparation du dataset en variables explicatives et variable cible\n",
    "    X = df_clean[columns]\n",
    "    y = df_clean['pnns_groups_2']\n",
    "    y_encoded = le.fit_transform(y)\n",
    "\n",
    "    # Séparation du dataset en conjoints d'entraînement et de test\n",
    "    X_train, X_test, y_train, y_test = train_test_split(X, y_encoded, test_size=0.2, stratify=y)\n",
    "\n",
    "    # Création et entraînement du modèle \n",
    "    model = RandomForestClassifier(n_estimators= 200, max_depth = None, min_samples_leaf= 1, min_samples_split= 2)\n",
    "    model.fit(X_train, y_train)\n",
    "    accuracy = model.score(X_test, y_test)\n",
    "    accuracy_rounded = round(accuracy, 2)\n",
    "    \n",
    "    print(f\"La performance du modèle est de {accuracy_rounded * 100} %\")\n",
    "    return model  \n",
    "\n",
    "model = fit_model(df)"
   ]
  },
  {
   "cell_type": "code",
   "execution_count": 22,
   "id": "47daec87",
   "metadata": {},
   "outputs": [],
   "source": [
    "def use_model(df):\n",
    "    '''Prediction des données dans la variable pnns_groups_2 grace au modèle entrainé précedemment, décodage de la \n",
    "    variable pnns_groups_2, remplacement des valeurs manquantes par les prédictions du modèle, récupération des \n",
    "    modalités originales du nutriscore.\n",
    "    Input: Dataframe, Output: Dataframe'''\n",
    "    X = df[columns]\n",
    "    #Prédiction des catégories d'aliment sur tout le dataframe\n",
    "    y_pred = model.predict(X)\n",
    "\n",
    "    # Création du masque de booléens des valeurs manquantes pour la catégorie de l'aliment\n",
    "    mask = df['pnns_groups_2'].isnull()\n",
    "\n",
    "    # Récupération des modalités de la variable cible\n",
    "    y_pred_labels = le.inverse_transform(y_pred)\n",
    "\n",
    "    # Remplacement des valeurs manquantes par les valeurs prédites\n",
    "    for i, row in df[mask].iterrows():\n",
    "        df.at[i, 'pnns_groups_2'] = y_pred_labels[i]\n",
    "        \n",
    "    #Récupération des modalités d'origine du nutriscore\n",
    "    df['nutrition_grade_fr'].replace([0, 1, 2, 3, 4], ['a', 'b', 'c','d', 'e'], inplace=True)\n",
    "        \n",
    "    return df\n",
    "\n",
    "df = use_model(df)"
   ]
  },
  {
   "cell_type": "code",
   "execution_count": 23,
   "id": "31c52870",
   "metadata": {},
   "outputs": [
    {
     "data": {
      "text/plain": [
       "product_name          0.0\n",
       "countries_fr          0.0\n",
       "pnns_groups_2         0.0\n",
       "energy_100g           0.0\n",
       "proteins_100g         0.0\n",
       "salt_100g             0.0\n",
       "sugars_100g           0.0\n",
       "fat_100g              0.0\n",
       "carbohydrates_100g    0.0\n",
       "saturated-fat_100g    0.0\n",
       "fiber_100g            0.0\n",
       "nutrition_grade_fr    0.0\n",
       "dtype: float64"
      ]
     },
     "metadata": {},
     "output_type": "display_data"
    },
    {
     "data": {
      "text/plain": [
       "(181881, 12)"
      ]
     },
     "metadata": {},
     "output_type": "display_data"
    }
   ],
   "source": [
    "display(df.isna().mean())\n",
    "display(df.shape)"
   ]
  },
  {
   "cell_type": "markdown",
   "id": "6f826a85",
   "metadata": {},
   "source": [
    "# Exportation des données pour l'analyse"
   ]
  },
  {
   "cell_type": "code",
   "execution_count": 24,
   "id": "88abf933",
   "metadata": {},
   "outputs": [],
   "source": [
    "with open('clean_data.bin', 'wb') as fichier:\n",
    "    pickle.dump(df, fichier)"
   ]
  }
 ],
 "metadata": {
  "kernelspec": {
   "display_name": "kernel_P3",
   "language": "python",
   "name": "kernel_p3"
  },
  "language_info": {
   "codemirror_mode": {
    "name": "ipython",
    "version": 3
   },
   "file_extension": ".py",
   "mimetype": "text/x-python",
   "name": "python",
   "nbconvert_exporter": "python",
   "pygments_lexer": "ipython3",
   "version": "3.10.8"
  }
 },
 "nbformat": 4,
 "nbformat_minor": 5
}
